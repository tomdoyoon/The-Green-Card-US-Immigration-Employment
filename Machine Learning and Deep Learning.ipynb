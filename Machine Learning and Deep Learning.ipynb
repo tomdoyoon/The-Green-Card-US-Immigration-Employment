{
 "cells": [
  {
   "cell_type": "code",
   "execution_count": 29,
   "id": "042507b8",
   "metadata": {},
   "outputs": [],
   "source": [
    "import numpy as np\n",
    "import pandas as pd\n",
    "import matplotlib.pyplot as plt\n",
    "import seaborn as sns\n",
    "import scipy.stats as st\n",
    "import dataframe_image as dfi\n",
    "\n",
    "\n",
    "from sklearn.model_selection import train_test_split\n",
    "from sklearn.preprocessing import MinMaxScaler\n",
    "from tensorflow.keras.models import Sequential\n",
    "from tensorflow.keras.layers import Dense, Dropout\n",
    "from tensorflow.keras.callbacks import EarlyStopping\n",
    "from sklearn.metrics import classification_report, confusion_matrix\n",
    "\n",
    "from sklearn.linear_model import LinearRegression\n",
    "from sklearn.model_selection import GridSearchCV\n",
    "from sklearn.ensemble import RandomForestClassifier\n",
    "from sklearn.ensemble import RandomForestRegressor\n",
    "from sklearn.ensemble import HistGradientBoostingClassifier\n",
    "from sklearn import metrics\n",
    "from sklearn.utils import resample\n",
    "from imblearn.over_sampling import SMOTE"
   ]
  },
  {
   "cell_type": "code",
   "execution_count": 30,
   "id": "d14e9201",
   "metadata": {},
   "outputs": [],
   "source": [
    "model = pd.read_csv(\"model.csv\", low_memory = False)"
   ]
  },
  {
   "cell_type": "code",
   "execution_count": 31,
   "id": "2cef71a2",
   "metadata": {},
   "outputs": [
    {
     "data": {
      "text/plain": [
       "207"
      ]
     },
     "execution_count": 31,
     "metadata": {},
     "output_type": "execute_result"
    }
   ],
   "source": [
    "# THE NUMBER OF FEATURES\n",
    "len(model.columns)"
   ]
  },
  {
   "cell_type": "code",
   "execution_count": 32,
   "id": "44136b87",
   "metadata": {},
   "outputs": [],
   "source": [
    "# DROPPING NULLS\n",
    "# model.isnull().sum().sort_values(ascending = False)\n",
    "model = model.dropna()"
   ]
  },
  {
   "cell_type": "code",
   "execution_count": 33,
   "id": "c1724ef6",
   "metadata": {},
   "outputs": [
    {
     "data": {
      "text/plain": [
       "586650"
      ]
     },
     "execution_count": 33,
     "metadata": {},
     "output_type": "execute_result"
    }
   ],
   "source": [
    "# TOTAL ROWS\n",
    "len(model)"
   ]
  },
  {
   "cell_type": "code",
   "execution_count": 34,
   "id": "5df8fca4",
   "metadata": {},
   "outputs": [],
   "source": [
    "# HEATMAP\n",
    "#plt.figure(figsize=(12,10))\n",
    "#sns.heatmap(model.corr())"
   ]
  },
  {
   "cell_type": "code",
   "execution_count": 35,
   "id": "f310a51f",
   "metadata": {},
   "outputs": [
    {
     "data": {
      "image/png": "[encoded data removed]",
      "text/plain": [
       "<Figure size 864x720 with 1 Axes>"
      ]
     },
     "metadata": {
      "needs_background": "light"
     },
     "output_type": "display_data"
    }
   ],
   "source": [
    "# DISTRIBUTION OF CLASSES\n",
    "plt.figure(figsize=(12,10))\n",
    "plt.title(\"DISTRIBUTION OF CLASSES: 1 is Accept, 0 is Reject\")\n",
    "ax = sns.countplot(x = model[\"CASE_STATUS\"])\n",
    "for p in ax.patches:\n",
    "   ax.annotate('{:.1f}'.format(p.get_height()), (p.get_x()+0.35, p.get_height()+0.01))"
   ]
  },
  {
   "cell_type": "code",
   "execution_count": 36,
   "id": "164cd04c",
   "metadata": {},
   "outputs": [],
   "source": [
    "model = pd.read_csv(\"model.csv\")\n",
    "model = model.dropna()\n",
    "X = model.drop(\"CASE_STATUS\",axis = 1)\n",
    "y = model[\"CASE_STATUS\"]\n"
   ]
  },
  {
   "cell_type": "code",
   "execution_count": 37,
   "id": "1fbf10b6",
   "metadata": {},
   "outputs": [],
   "source": [
    "##### DEEP LEARNING CLASSIFICATION ####"
   ]
  },
  {
   "cell_type": "code",
   "execution_count": 38,
   "id": "c29ffee1",
   "metadata": {
    "scrolled": true
   },
   "outputs": [
    {
     "name": "stdout",
     "output_type": "stream",
     "text": [
      "Epoch 1/500\n",
      "13750/13750 [==============================] - 28s 2ms/step - loss: 0.2161 - val_loss: 0.2124\n",
      "Epoch 2/500\n",
      "13750/13750 [==============================] - 26s 2ms/step - loss: 0.2093 - val_loss: 0.2086\n",
      "Epoch 3/500\n",
      "13750/13750 [==============================] - 25s 2ms/step - loss: 0.2056 - val_loss: 0.2045\n",
      "Epoch 4/500\n",
      "13750/13750 [==============================] - 26s 2ms/step - loss: 0.2017 - val_loss: 0.2034\n",
      "Epoch 5/500\n",
      "13750/13750 [==============================] - 26s 2ms/step - loss: 0.1993 - val_loss: 0.2022\n",
      "Epoch 6/500\n",
      "13750/13750 [==============================] - 26s 2ms/step - loss: 0.1972 - val_loss: 0.2008\n",
      "Epoch 7/500\n",
      "13750/13750 [==============================] - 26s 2ms/step - loss: 0.1955 - val_loss: 0.1991\n",
      "Epoch 8/500\n",
      "13750/13750 [==============================] - 26s 2ms/step - loss: 0.1933 - val_loss: 0.1992\n",
      "Epoch 9/500\n",
      "13750/13750 [==============================] - 26s 2ms/step - loss: 0.1909 - val_loss: 0.1962\n",
      "Epoch 10/500\n",
      "13750/13750 [==============================] - 27s 2ms/step - loss: 0.1878 - val_loss: 0.1960\n",
      "Epoch 11/500\n",
      "13750/13750 [==============================] - 27s 2ms/step - loss: 0.1818 - val_loss: 0.1886\n",
      "Epoch 12/500\n",
      "13750/13750 [==============================] - 26s 2ms/step - loss: 0.1715 - val_loss: 0.1738\n",
      "Epoch 13/500\n",
      "13750/13750 [==============================] - 26s 2ms/step - loss: 0.1584 - val_loss: 0.1942\n",
      "Epoch 14/500\n",
      "13750/13750 [==============================] - 26s 2ms/step - loss: 0.1470 - val_loss: 0.1443\n",
      "Epoch 15/500\n",
      "13750/13750 [==============================] - 26s 2ms/step - loss: 0.1393 - val_loss: 0.1440\n",
      "Epoch 16/500\n",
      "13750/13750 [==============================] - 26s 2ms/step - loss: 0.1339 - val_loss: 0.1402\n",
      "Epoch 17/500\n",
      "13750/13750 [==============================] - 26s 2ms/step - loss: 0.1304 - val_loss: 0.1328\n",
      "Epoch 18/500\n",
      "13750/13750 [==============================] - 26s 2ms/step - loss: 0.1276 - val_loss: 0.1398\n",
      "Epoch 19/500\n",
      "13750/13750 [==============================] - 27s 2ms/step - loss: 0.1246 - val_loss: 0.1384\n",
      "Epoch 20/500\n",
      "13750/13750 [==============================] - 27s 2ms/step - loss: 0.1233 - val_loss: 0.1324\n",
      "Epoch 21/500\n",
      "13750/13750 [==============================] - 26s 2ms/step - loss: 0.1219 - val_loss: 0.1314\n",
      "Epoch 22/500\n",
      "13750/13750 [==============================] - 26s 2ms/step - loss: 0.1208 - val_loss: 0.1318\n",
      "Epoch 23/500\n",
      "13750/13750 [==============================] - 27s 2ms/step - loss: 0.1194 - val_loss: 0.1286\n",
      "Epoch 24/500\n",
      "13750/13750 [==============================] - 27s 2ms/step - loss: 0.1187 - val_loss: 0.1300\n",
      "Epoch 25/500\n",
      "13750/13750 [==============================] - 26s 2ms/step - loss: 0.1175 - val_loss: 0.1607\n",
      "Epoch 26/500\n",
      "13750/13750 [==============================] - 27s 2ms/step - loss: 0.1168 - val_loss: 0.1279\n",
      "Epoch 27/500\n",
      "13750/13750 [==============================] - 27s 2ms/step - loss: 0.1155 - val_loss: 0.1303\n",
      "Epoch 28/500\n",
      "13750/13750 [==============================] - 27s 2ms/step - loss: 0.1153 - val_loss: 0.1254\n",
      "Epoch 29/500\n",
      "13750/13750 [==============================] - 27s 2ms/step - loss: 0.1144 - val_loss: 0.1292\n",
      "Epoch 30/500\n",
      "13750/13750 [==============================] - 27s 2ms/step - loss: 0.1138 - val_loss: 0.1342\n",
      "Epoch 31/500\n",
      "13750/13750 [==============================] - 27s 2ms/step - loss: 0.1131 - val_loss: 0.1366\n",
      "Epoch 32/500\n",
      "13750/13750 [==============================] - 27s 2ms/step - loss: 0.1130 - val_loss: 0.1312\n",
      "Epoch 33/500\n",
      "13750/13750 [==============================] - 27s 2ms/step - loss: 0.1122 - val_loss: 0.1267\n",
      "Epoch 34/500\n",
      "13750/13750 [==============================] - 27s 2ms/step - loss: 0.1114 - val_loss: 0.1305\n",
      "Epoch 35/500\n",
      "13750/13750 [==============================] - 27s 2ms/step - loss: 0.1110 - val_loss: 0.1328\n",
      "Epoch 36/500\n",
      "13750/13750 [==============================] - 27s 2ms/step - loss: 0.1105 - val_loss: 0.1295\n",
      "Epoch 37/500\n",
      "13750/13750 [==============================] - 27s 2ms/step - loss: 0.1105 - val_loss: 0.1290\n",
      "Epoch 38/500\n",
      "13750/13750 [==============================] - 27s 2ms/step - loss: 0.1093 - val_loss: 0.1359\n",
      "Epoch 38: early stopping\n"
     ]
    },
    {
     "data": {
      "text/plain": [
       "<keras.callbacks.History at 0x1ec8e976b80>"
      ]
     },
     "execution_count": 38,
     "metadata": {},
     "output_type": "execute_result"
    }
   ],
   "source": [
    "# Preprocessing Data\n",
    "X_train, X_test, y_train, y_test = train_test_split(X, y, test_size=0.25, random_state = 0)\n",
    "scaler = MinMaxScaler()\n",
    "X_train = scaler.fit_transform(X_train)\n",
    "X_test = scaler.transform(X_test)\n",
    "\n",
    "# Creating Model: dm2\n",
    "dm2 = Sequential()\n",
    "\n",
    "dm2.add(Dense(100,activation = \"relu\"))\n",
    "#dm2.add(Dropout(.2))\n",
    "dm2.add(Dense(50,activation = \"relu\"))\n",
    "#dm2.add(Dropout(.2))\n",
    "dm2.add(Dense(1,activation = \"sigmoid\"))\n",
    "\n",
    "dm2.compile(optimizer = \"adam\", loss = \"binary_crossentropy\", )\n",
    "early_stop = EarlyStopping(monitor = \"val_loss\", mode = \"min\", verbose = 1, patience = 10)\n",
    "\n",
    "\n",
    "# Training DLM1\n",
    "dm2.fit(x = X_train, y = y_train, epochs = 500,validation_data = (X_test,y_test), callbacks = [early_stop], batch_size = 32)"
   ]
  },
  {
   "cell_type": "code",
   "execution_count": 39,
   "id": "d77a57cc",
   "metadata": {},
   "outputs": [
    {
     "data": {
      "text/plain": [
       "<AxesSubplot:>"
      ]
     },
     "execution_count": 39,
     "metadata": {},
     "output_type": "execute_result"
    },
    {
     "data": {
      "image/png": "[encoded data removed]",
      "text/plain": [
       "<Figure size 432x288 with 1 Axes>"
      ]
     },
     "metadata": {
      "needs_background": "light"
     },
     "output_type": "display_data"
    }
   ],
   "source": [
    "# Overfitting?\n",
    "pd.DataFrame(dm2.history.history).plot()"
   ]
  },
  {
   "cell_type": "code",
   "execution_count": 40,
   "id": "694e2791",
   "metadata": {},
   "outputs": [
    {
     "name": "stdout",
     "output_type": "stream",
     "text": [
      "4584/4584 [==============================] - 5s 1ms/step\n",
      "              precision    recall  f1-score   support\n",
      "\n",
      "           0       0.81      0.55      0.65      9878\n",
      "           1       0.97      0.99      0.98    136785\n",
      "\n",
      "    accuracy                           0.96    146663\n",
      "   macro avg       0.89      0.77      0.82    146663\n",
      "weighted avg       0.96      0.96      0.96    146663\n",
      "\n",
      "[[  5410   4468]\n",
      " [  1278 135507]]\n"
     ]
    }
   ],
   "source": [
    "# Evaluating DLM1\n",
    "pdm2 = (dm2.predict(X_test) > 0.5).astype(\"int32\")\n",
    "print(classification_report(y_test, pdm2))\n",
    "print(confusion_matrix(y_test, pdm2))"
   ]
  },
  {
   "cell_type": "code",
   "execution_count": 41,
   "id": "b04948ec",
   "metadata": {},
   "outputs": [],
   "source": [
    "##### ML Classification Models ####"
   ]
  },
  {
   "cell_type": "code",
   "execution_count": 42,
   "id": "2f01f6f9",
   "metadata": {},
   "outputs": [],
   "source": [
    "### RANDOM FOREST ###"
   ]
  },
  {
   "cell_type": "code",
   "execution_count": 45,
   "id": "5530d86c",
   "metadata": {},
   "outputs": [
    {
     "name": "stdout",
     "output_type": "stream",
     "text": [
      "[[  5222   4656]\n",
      " [   464 136321]]\n",
      "              precision    recall  f1-score   support\n",
      "\n",
      "           0       0.92      0.53      0.67      9878\n",
      "           1       0.97      1.00      0.98    136785\n",
      "\n",
      "    accuracy                           0.97    146663\n",
      "   macro avg       0.94      0.76      0.83    146663\n",
      "weighted avg       0.96      0.97      0.96    146663\n",
      "\n"
     ]
    }
   ],
   "source": [
    "# OVER SAMPLING THE MINORITY (REJECT)\n",
    "model = pd.read_csv(\"model.csv\")\n",
    "model = model.dropna()\n",
    "X = model.drop(\"CASE_STATUS\",axis = 1)\n",
    "y = model[\"CASE_STATUS\"]\n",
    "X_train, X_test, y_train, y_test = train_test_split(X, y, test_size=0.25, random_state = 0)\n",
    "\n",
    "X = pd.concat([X_train, y_train], axis=1)\n",
    "reject = X[X[\"CASE_STATUS\"]==0]\n",
    "accept = X[X[\"CASE_STATUS\"]==1]\n",
    "\n",
    "reject_o = resample(reject,replace=True,n_samples=len(accept),random_state=0)\n",
    "new = pd.concat([accept, reject_o])\n",
    "\n",
    "# RETEST\n",
    "y_train = new[\"CASE_STATUS\"]\n",
    "X_train = new.drop(\"CASE_STATUS\", axis=1)\n",
    "rfco = RandomForestClassifier(n_estimators = 100, random_state = 0).fit(X_train, y_train)\n",
    "predo = rfco.predict(X_test)\n",
    "print(confusion_matrix(y_test,predo))\n",
    "print(classification_report(y_test,predo))"
   ]
  },
  {
   "cell_type": "code",
   "execution_count": 46,
   "id": "1cc4216f",
   "metadata": {},
   "outputs": [
    {
     "name": "stdout",
     "output_type": "stream",
     "text": [
      "[[  8104   1774]\n",
      " [ 16785 120000]]\n",
      "              precision    recall  f1-score   support\n",
      "\n",
      "           0       0.33      0.82      0.47      9878\n",
      "           1       0.99      0.88      0.93    136785\n",
      "\n",
      "    accuracy                           0.87    146663\n",
      "   macro avg       0.66      0.85      0.70    146663\n",
      "weighted avg       0.94      0.87      0.90    146663\n",
      "\n"
     ]
    }
   ],
   "source": [
    "# UNDER SAMPLING THE MAJORITY (ACCEPT)\n",
    "model = pd.read_csv(\"model.csv\")\n",
    "model = model.dropna()\n",
    "X = model.drop(\"CASE_STATUS\",axis = 1)\n",
    "y = model[\"CASE_STATUS\"]\n",
    "X_train, X_test, y_train, y_test = train_test_split(X, y, test_size=0.25, random_state=0)\n",
    "\n",
    "X = pd.concat([X_train, y_train], axis=1)\n",
    "reject = X[X[\"CASE_STATUS\"]==0]\n",
    "accept = X[X[\"CASE_STATUS\"]==1]\n",
    "\n",
    "accept_u = resample(accept, replace = False, n_samples = len(reject), random_state = 0) \n",
    "new = pd.concat([accept_u, reject])\n",
    "\n",
    "# RETEST\n",
    "y_train = new[\"CASE_STATUS\"]\n",
    "X_train = new.drop(\"CASE_STATUS\", axis=1)\n",
    "rfcu = RandomForestClassifier(n_estimators = 100, random_state = 0).fit(X_train, y_train)\n",
    "predu = rfcu.predict(X_test)\n",
    "print(confusion_matrix(y_test,predu))\n",
    "print(classification_report(y_test,predu))"
   ]
  },
  {
   "cell_type": "code",
   "execution_count": 47,
   "id": "730b45f1",
   "metadata": {},
   "outputs": [
    {
     "name": "stdout",
     "output_type": "stream",
     "text": [
      "[[  5323   4555]\n",
      " [   666 136119]]\n",
      "              precision    recall  f1-score   support\n",
      "\n",
      "           0       0.89      0.54      0.67      9878\n",
      "           1       0.97      1.00      0.98    136785\n",
      "\n",
      "    accuracy                           0.96    146663\n",
      "   macro avg       0.93      0.77      0.83    146663\n",
      "weighted avg       0.96      0.96      0.96    146663\n",
      "\n"
     ]
    }
   ],
   "source": [
    "# SMOTE\n",
    "model = pd.read_csv(\"model.csv\")\n",
    "model = model.dropna()\n",
    "X = model.drop(\"CASE_STATUS\",axis = 1)\n",
    "y = model[\"CASE_STATUS\"]\n",
    "X_train, X_test, y_train, y_test = train_test_split(X, y, test_size=0.25, random_state=0)\n",
    "\n",
    "sm = SMOTE()\n",
    "X_train, y_train = sm.fit_resample(X_train, y_train)\n",
    "smote = RandomForestClassifier(n_estimators = 100, random_state = 0).fit(X_train, y_train)\n",
    "\n",
    "pred = smote.predict(X_test)\n",
    "print(confusion_matrix(y_test,pred))\n",
    "print(classification_report(y_test,pred))"
   ]
  },
  {
   "cell_type": "code",
   "execution_count": 48,
   "id": "8080f49d",
   "metadata": {},
   "outputs": [
    {
     "name": "stdout",
     "output_type": "stream",
     "text": [
      "[[  4995   4883]\n",
      " [   229 136556]]\n",
      "              precision    recall  f1-score   support\n",
      "\n",
      "           0       0.96      0.51      0.66      9878\n",
      "           1       0.97      1.00      0.98    136785\n",
      "\n",
      "    accuracy                           0.97    146663\n",
      "   macro avg       0.96      0.75      0.82    146663\n",
      "weighted avg       0.96      0.97      0.96    146663\n",
      "\n"
     ]
    }
   ],
   "source": [
    "#RANDOM FOREST \n",
    "model = pd.read_csv(\"model.csv\")\n",
    "model = model.dropna()\n",
    "X = model.drop(\"CASE_STATUS\",axis = 1)\n",
    "y = model[\"CASE_STATUS\"]\n",
    "X_train, X_test, y_train, y_test = train_test_split(X, y, test_size=0.25, random_state = 0)\n",
    "# RANDOM FOREST 1: RF1\n",
    "rf = RandomForestClassifier(n_estimators = 100, random_state = 0)\n",
    "rf.fit(X_train,y_train)\n",
    "prf = rf.predict(X_test)\n",
    "print(confusion_matrix(y_test,prf))\n",
    "print(classification_report(y_test,prf))"
   ]
  },
  {
   "cell_type": "code",
   "execution_count": null,
   "id": "5f6ddd16",
   "metadata": {},
   "outputs": [],
   "source": [
    "#gbc=HistGradientBoostingClassifier(learning_rate=0.01, \n",
    "#        max_iter=2000, max_leaf_nodes=6, validation_fraction=0.2, \n",
    "#        n_iter_no_change=15, random_state=0).fit(X_train,y_train)\n",
    "#\n",
    "#predtst=gbc.predict_proba(X_test)[:,1]\n",
    "#fpr, tpr, thresholds = metrics.roc_curve(y_test, predtst)\n",
    "#dfplot=pd.DataFrame({'Threshold':thresholds, \n",
    "#        'False Positive Rate':fpr, \n",
    "#        'False Negative Rate': 1.-tpr})"
   ]
  },
  {
   "cell_type": "code",
   "execution_count": null,
   "id": "d440d1c5",
   "metadata": {},
   "outputs": [],
   "source": [
    "#ax=dfplot.plot(x='Threshold', y=['False Positive Rate',\n",
    "#        'False Negative Rate'], figsize=(10,6))\n",
    "#ax.plot([0.75,0.1],[0,0.1]) #mark example thresh.\n",
    "#ax.set_xbound(0.905,.907); ax.set_ybound(.31,0.38) #zoom in"
   ]
  },
  {
   "cell_type": "code",
   "execution_count": null,
   "id": "8f1da97e",
   "metadata": {},
   "outputs": [],
   "source": [
    "#threshtest = np.where(predtst >= 0.90625, 1, 0)\n",
    "#print(confusion_matrix(y_test,threshtest))\n",
    "#print(classification_report(y_test,threshtest))"
   ]
  },
  {
   "cell_type": "code",
   "execution_count": null,
   "id": "6aa48d94",
   "metadata": {},
   "outputs": [],
   "source": [
    "# GridSearch CV for RFC\n",
    "#model = pd.read_csv(\"model.csv\")\n",
    "#model = model.dropna()\n",
    "#X = model.drop(\"CASE_STATUS\",axis = 1)\n",
    "#y = model[\"CASE_STATUS\"]\n",
    "#X_train, X_test, y_train, y_test = train_test_split(X, y, test_size=0.25, random_state = 0)\n",
    "\n",
    "#rfc = RandomForestClassifier(random_state = 0)\n",
    "#parameters = {\"n_estimators\":[10,50,100,200],\"max_depth\":[2,4,8,10],\"max_features\": ['sqrt', 'log2'],\n",
    "#    \"criterion\" :['gini', 'entropy']}\n",
    "\n",
    "#cv = GridSearchCV(rfc,parameters,cv=5)\n",
    "#cv.fit(X_train,y_train)\n",
    "#cv.best_params_"
   ]
  },
  {
   "cell_type": "code",
   "execution_count": null,
   "id": "32f5395a",
   "metadata": {},
   "outputs": [],
   "source": [
    "#RANDOM FOREST \n",
    "#model = pd.read_csv(\"model.csv\")\n",
    "#model = model.dropna()\n",
    "#X = model.drop(\"CASE_STATUS\",axis = 1)\n",
    "#y = model[\"CASE_STATUS\"]\n",
    "#X_train, X_test, y_train, y_test = train_test_split(X, y, test_size=0.25, random_state = 0)\n",
    "# RANDOM FOREST 1: RF1\n",
    "#rfcv = RandomForestClassifier(n_estimators = 50, random_state = 0, criterion=\"gini\",max_depth = 10, max_features= \"sqrt\")\n",
    "#rfcv.fit(X_train,y_train)\n",
    "#prfcv = rfcv.predict(X_test)\n",
    "#print(confusion_matrix(y_test,prfcv))\n",
    "#print(classification_report(y_test,prfcv))"
   ]
  },
  {
   "cell_type": "code",
   "execution_count": null,
   "id": "f8e9e303",
   "metadata": {},
   "outputs": [],
   "source": []
  },
  {
   "cell_type": "code",
   "execution_count": null,
   "id": "eb2d0eb5",
   "metadata": {},
   "outputs": [],
   "source": []
  }
 ],
 "metadata": {
  "kernelspec": {
   "display_name": "Python 3 (ipykernel)",
   "language": "python",
   "name": "python3"
  },
  "language_info": {
   "codemirror_mode": {
    "name": "ipython",
    "version": 3
   },
   "file_extension": ".py",
   "mimetype": "text/x-python",
   "name": "python",
   "nbconvert_exporter": "python",
   "pygments_lexer": "ipython3",
   "version": "3.9.12"
  }
 },
 "nbformat": 4,
 "nbformat_minor": 5
}
